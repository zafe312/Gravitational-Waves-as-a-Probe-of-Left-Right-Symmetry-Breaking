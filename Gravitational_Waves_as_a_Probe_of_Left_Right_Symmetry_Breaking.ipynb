{
  "nbformat": 4,
  "nbformat_minor": 0,
  "metadata": {
    "colab": {
      "name": "Gravitational Waves as a Probe of Left-Right Symmetry Breaking.ipynb",
      "provenance": [],
      "collapsed_sections": [
        "NfRajOYKpzGF",
        "1221WKYDqAHi",
        "3uLlkCa3rLQF"
      ],
      "authorship_tag": "ABX9TyPImWi7i5cCKP+Myn6r91wB",
      "include_colab_link": true
    },
    "kernelspec": {
      "name": "python3",
      "display_name": "Python 3"
    },
    "language_info": {
      "name": "python"
    }
  },
  "cells": [
    {
      "cell_type": "markdown",
      "metadata": {
        "id": "view-in-github",
        "colab_type": "text"
      },
      "source": [
        "<a href=\"https://colab.research.google.com/github/zafe312/Gravitational-Waves-as-a-Probe-of-Left-Right-Symmetry-Breaking/blob/main/Gravitational_Waves_as_a_Probe_of_Left_Right_Symmetry_Breaking.ipynb\" target=\"_parent\"><img src=\"https://colab.research.google.com/assets/colab-badge.svg\" alt=\"Open In Colab\"/></a>"
      ]
    },
    {
      "cell_type": "markdown",
      "source": [
        "# We try to reproduce the results from the [paper](https://arxiv.org/abs/1909.02018) by Vedran Brdar et al. Please refer to the paper for the details of the calculation."
      ],
      "metadata": {
        "id": "HhfuwHQhlP_Q"
      }
    },
    {
      "cell_type": "markdown",
      "source": [
        "## The Model:"
      ],
      "metadata": {
        "id": "NfRajOYKpzGF"
      }
    },
    {
      "cell_type": "markdown",
      "source": [
        "Fermions:\n",
        "$$\n",
        "\\ell_{L}^{i}=\\left(\\begin{array}{c}\n",
        "\\nu_{L}^{i} \\\\\n",
        "e_{L}^{i}\n",
        "\\end{array}\\right) \\stackrel{\\mathrm{L}-\\mathrm{R}}{\\longrightarrow}\\left(\\begin{array}{c}\n",
        "\\nu_{R}^{i} \\\\\n",
        "e_{R}^{i}\n",
        "\\end{array}\\right)=\\ell_{R}^{i},\n",
        "$$\n",
        "$$\n",
        "Q_{L}^{i}=\\left(\\begin{array}{c}\n",
        "u_{L}^{i} \\\\\n",
        "d_{L}^{i}\n",
        "\\end{array}\\right) \\stackrel{\\mathrm{L}-\\mathrm{R}}{\\longleftrightarrow}\\left(\\begin{array}{c}\n",
        "u_{R}^{i} \\\\\n",
        "d_{R}^{i}\n",
        "\\end{array}\\right)=Q_{R}^{i}\n",
        "$$\n",
        "Higgs Sector:\n",
        "$$\\Phi=\\left(\\begin{array}{cc}\n",
        "\\phi_{1}^{0} & \\phi_{1}^{+} \\\\\n",
        "\\phi_{2}^{-} & \\phi_{2}^{0}\n",
        "\\end{array}\\right), \\quad \\Delta_{L}=\\left(\\begin{array}{cc}\n",
        "\\frac{1}{\\sqrt{2}} \\delta_{L}^{+} & \\delta_{L}^{++} \\\\\n",
        "\\delta_{L}^{0} & -\\frac{1}{\\sqrt{2}} \\delta_{L}^{+}\n",
        "\\end{array}\\right), \\quad \\Delta_{R}=\\left(\\begin{array}{cc}\n",
        "\\frac{1}{\\sqrt{2}} \\delta_{R}^{+} & \\delta_{R}^{++} \\\\\n",
        "\\delta_{R}^{0} & -\\frac{1}{\\sqrt{2}} \\delta_{R}^{+}\n",
        "\\end{array}\\right)$$\n",
        "\n",
        "Lagrangian:\n",
        "$$\n",
        "\\mathcal{L}_{\\text {gauge }}=\\operatorname{Tr}\\left[\\left(D_{\\mu} \\Delta_{L}\\right)^{\\dagger}\\left(D^{\\mu} \\Delta_{L}\\right)\\right]+\\operatorname{Tr}\\left[\\left(D_{\\mu} \\Delta_{R}\\right)^{\\dagger}\\left(D^{\\mu} \\Delta_{R}\\right)\\right]+\\operatorname{Tr}\\left[\\left(D_{\\mu} \\Phi\\right)^{\\dagger}\\left(D^{\\mu} \\Phi\\right)\\right] \\text {, }\n",
        "$$\n",
        "where the gauge-covariant derivatives acting on the scalar multiplets have the usual form\n",
        "$$\n",
        "\\begin{aligned}\n",
        "D_{\\mu} \\Delta &=\\partial_{\\mu} \\Delta-\\mathrm{i} g\\left[W_{\\mu}^{a} \\tau^{a}, \\Delta\\right]-\\mathrm{i} g_{B-L} B_{\\mu} \\Delta \\\\\n",
        "D_{\\mu} \\Phi &=\\partial_{\\mu} \\Phi-\\mathrm{i} g\\left(W_{L \\mu}^{a} \\tau^{a} \\Phi-\\Phi W_{R \\mu}^{a} \\tau^{a}\\right)\n",
        "\\end{aligned}\n",
        "$$\n",
        "\n",
        "$$\\mathcal{L}_{\\text {Yukawa }} \\supseteq \\bar{Q}_{L i}\\left(y_{i j} \\Phi+\\tilde{y}_{i j} \\tilde{\\Phi}\\right) Q_{R j}+\\text { h.c. }$$\n",
        "\n",
        "$$\\mathcal{L}_{\\text {Yukawa }} \\supseteq y_{t}\\left(\\bar{Q}_{L 3} \\Phi Q_{R 3}+\\bar{Q}_{R 3} \\Phi^{\\dagger} Q_{L 3}\\right)$$\n",
        "\n",
        "$$\\mathcal{L}_{\\text {Yukawa }} \\supseteq-Y_{M}^{i j}\\left[\\ell_{L i}^{c} \\mathrm{i} \\sigma_{2} \\Delta_{L} \\ell_{L j}+(L \\leftrightarrow R)\\right]+\\text { h.c. }$$\n",
        "\n",
        "$$\\mathcal{L}_{\\text {Yukawa }} \\supseteq-y_{M} \\overline{\\ell_{L}^{c}} \\mathrm{i} \\sigma_{2} \\Delta_{L} \\ell_{L}+y_{M} \\overline{\\ell_{L}} \\Delta_{L}^{\\dagger} \\mathrm{i} \\sigma_{2} \\ell_{L}^{c}+(L \\leftrightarrow R)$$\n",
        "\n",
        "Tree level full potential:\n",
        "$$\n",
        "V_{\\text {tree }}=V_{\\Phi}+V_{\\Delta}+V_{\\Phi \\Delta},\n",
        "$$\n",
        "where\n",
        "$$\n",
        "\\begin{aligned}\n",
        "V_{\\Phi}=&-\\mu_{1}^{2} \\operatorname{Tr}\\left[\\Phi^{\\dagger} \\Phi\\right]-\\mu_{2}^{2}\\left(\\operatorname{Tr}\\left[\\tilde{\\Phi} \\Phi^{\\dagger}\\right]+\\operatorname{Tr}\\left[\\tilde{\\Phi}^{\\dagger} \\Phi\\right]\\right)-\\mu_{3}^{2}\\left(\\operatorname{Tr}\\left[\\Delta_{L} \\Delta_{L}^{\\dagger}\\right]+\\operatorname{Tr}\\left[\\Delta_{R} \\Delta_{R}^{\\dagger}\\right]\\right)+\\lambda_{1} \\operatorname{Tr}\\left[\\Phi^{\\dagger} \\Phi\\right]^{2} \\\\\n",
        "&+\\lambda_{2}\\left(\\operatorname{Tr}\\left[\\tilde{\\Phi} \\Phi^{\\dagger}\\right]^{2}+\\operatorname{Tr}\\left[\\tilde{\\Phi}^{\\dagger} \\Phi\\right]^{2}\\right)+\\lambda_{3} \\operatorname{Tr}\\left[\\tilde{\\Phi} \\Phi^{\\dagger}\\right] \\operatorname{Tr}\\left[\\tilde{\\Phi}^{\\dagger} \\Phi\\right]+\\lambda_{4} \\operatorname{Tr}\\left[\\Phi^{\\dagger} \\Phi\\right]\\left(\\operatorname{Tr}\\left[\\tilde{\\Phi} \\Phi^{\\dagger}\\right]+\\operatorname{Tr}\\left[\\tilde{\\Phi}^{\\dagger} \\Phi\\right]\\right) \\\\\n",
        "V_{\\Delta}=& \\rho_{1}\\left(\\operatorname{Tr}\\left[\\Delta_{L} \\Delta_{L}^{\\dagger}\\right]^{2}+\\operatorname{Tr}\\left[\\Delta_{R} \\Delta_{R}^{\\dagger}\\right]^{2}\\right)+\\rho_{2}\\left(\\operatorname{Tr}\\left[\\Delta_{L} \\Delta_{L}\\right] \\operatorname{Tr}\\left[\\Delta_{L}^{\\dagger} \\Delta_{L}^{\\dagger}\\right]+\\operatorname{Tr}\\left[\\Delta_{R} \\Delta_{R}\\right] \\operatorname{Tr}\\left[\\Delta_{R}^{\\dagger} \\Delta_{R}^{\\dagger}\\right]\\right) \\\\\n",
        "&+\\rho_{3} \\operatorname{Tr}\\left[\\Delta_{L} \\Delta_{L}^{\\dagger}\\right] \\operatorname{Tr}\\left[\\Delta_{R} \\Delta_{R}^{\\dagger}\\right]+\\rho_{4}\\left(\\operatorname{Tr}\\left[\\Delta_{L} \\Delta_{L}\\right] \\operatorname{Tr}\\left[\\Delta_{R}^{\\dagger} \\Delta_{R}^{\\dagger}\\right]+\\operatorname{Tr}\\left[\\Delta_{L}^{\\dagger} \\Delta_{L}^{\\dagger}\\right] \\operatorname{Tr}\\left[\\Delta_{R} \\Delta_{R}\\right]\\right) \\\\\n",
        "V_{\\Phi \\Delta}=& \\alpha_{1} \\operatorname{Tr}\\left[\\Phi^{\\dagger} \\Phi\\right]\\left(\\operatorname{Tr}\\left[\\Delta_{L} \\Delta_{L}^{\\dagger}\\right]+\\operatorname{Tr}\\left[\\Delta_{R} \\Delta_{R}^{\\dagger}\\right]\\right)+\\alpha_{3}\\left(\\operatorname{Tr}\\left[\\Phi \\Phi^{\\dagger} \\Delta_{L} \\Delta_{L}^{\\dagger}\\right]+\\operatorname{Tr}\\left[\\Phi^{\\dagger} \\Phi \\Delta_{R} \\Delta_{R}^{\\dagger}\\right]\\right) \\\\\n",
        "&+\\alpha_{2}\\left(\\operatorname{Tr}\\left[\\Delta_{L} \\Delta_{L}^{\\dagger}\\right] \\operatorname{Tr}\\left[\\tilde{\\Phi} \\Phi^{\\dagger}\\right]+\\operatorname{Tr}\\left[\\Delta_{R} \\Delta_{R}^{\\dagger}\\right] \\operatorname{Tr}\\left[\\tilde{\\Phi}^{\\dagger} \\Phi\\right]+\\text { h.c. }\\right) \\\\\n",
        "&+\\beta_{1}\\left(\\operatorname{Tr}\\left[\\Phi \\Delta_{R} \\Phi^{\\dagger} \\Delta_{L}^{\\dagger}\\right]+\\operatorname{Tr}\\left[\\Phi^{\\dagger} \\Delta_{L} \\Phi \\Delta_{R}^{\\dagger}\\right]\\right)+\\beta_{2}\\left(\\operatorname{Tr}\\left[\\tilde{\\Phi} \\Delta_{R} \\Phi^{\\dagger} \\Delta_{L}^{\\dagger}\\right]+\\operatorname{Tr}\\left[\\tilde{\\Phi}^{\\dagger} \\Delta_{L} \\Phi \\Delta_{R}^{\\dagger}\\right]\\right) \\\\\n",
        "&+\\beta_{3}\\left(\\operatorname{Tr}\\left[\\Phi \\Delta_{R} \\tilde{\\Phi}^{\\dagger} \\Delta_{L}^{\\dagger}\\right]+\\operatorname{Tr}\\left[\\Phi^{\\dagger} \\Delta_{L} \\tilde{\\Phi} \\Delta_{R}^{\\dagger}\\right]\\right)\n",
        "\\end{aligned}\n",
        "$$\n",
        "\n",
        "VEVs:\n",
        "$$\\langle\\Phi\\rangle=\\frac{1}{\\sqrt{2}}\\left(\\begin{array}{cc}\n",
        "\\kappa_{1} & 0 \\\\\n",
        "0 & \\kappa_{2} e^{i \\theta_{2}}\n",
        "\\end{array}\\right), \\quad\\left\\langle\\Delta_{L}\\right\\rangle=\\frac{1}{\\sqrt{2}}\\left(\\begin{array}{cc}\n",
        "0 & 0 \\\\\n",
        "v_{L} e^{i \\theta_{L}} & 0\n",
        "\\end{array}\\right), \\quad\\left\\langle\\Delta_{R}\\right\\rangle=\\frac{1}{\\sqrt{2}}\\left(\\begin{array}{cc}\n",
        "0 & 0 \\\\\n",
        "v_{R} & 0\n",
        "\\end{array}\\right)$$"
      ],
      "metadata": {
        "id": "KT90sGxWmVsY"
      }
    },
    {
      "cell_type": "markdown",
      "source": [
        "## Potential minimization"
      ],
      "metadata": {
        "id": "1221WKYDqAHi"
      }
    },
    {
      "cell_type": "code",
      "source": [
        ""
      ],
      "metadata": {
        "id": "y-ISMSQ-tEyY"
      },
      "execution_count": null,
      "outputs": []
    },
    {
      "cell_type": "markdown",
      "source": [
        "## Parameter Space:"
      ],
      "metadata": {
        "id": "P5vLGNkXtAaD"
      }
    },
    {
      "cell_type": "code",
      "source": [
        "BP1 = (246,1e4,1e-3,0.13,0,1.20400,0,0.13414,1.2613,1.5140,0,0,0.30246,0.10765,0,0,0,0.65,0.4324,0.95,1,0,0,0.13414*1e4**2)\n",
        "BP2 = (246,1e6,1e-3,0.13,0,0.88814,0,0.11146,1.4109,1.5489,0,0,0.15557,0.11185,0,0,0,0.65,0.4324,0.95,1,0,0,0.11146*1e6**2)\n",
        "BP3 = (246,1e4,0,0.13,0,0.6,0,0.001,0.900218,0.900215,0,0,0,1.14815,0,0,0,0.65,0.4324,0.95,0.78595,0,0,0.001*1e4**2)\n",
        "BP4 = (246,5e4,0,0.13,0,0.6,0,0.002,0.401126,0.401126,0.040113,0,0,0.378138,0,0,0,0.65,0.4324,0.95,0.52404,0,0,0.002*5e4**2)\n",
        "\n",
        "v, vR, tanB, lam1, lam2, lam3, lam4, rho1, rho2, rho3, rho4, al1, al2, al3, beta1, beta2, beta3, g, g_BL, yt, yM, mu1sq, mu2sq, mu3sq = BP1"
      ],
      "metadata": {
        "id": "ko9Pk1VRs9mH"
      },
      "execution_count": 26,
      "outputs": []
    },
    {
      "cell_type": "markdown",
      "source": [
        "## Reproducing Figure 1"
      ],
      "metadata": {
        "id": "3uLlkCa3rLQF"
      }
    },
    {
      "cell_type": "code",
      "source": [
        "import numpy as np\n",
        "import matplotlib.pyplot as plt"
      ],
      "metadata": {
        "id": "K4V1bI4zrUI1"
      },
      "execution_count": 3,
      "outputs": []
    },
    {
      "cell_type": "code",
      "source": [
        "def V0(r):\n",
        "  return -0.5*mu3**2*r**2 + 0.25*rho1*r**4\n",
        "\n",
        "def VCW(r):\n",
        "  return (1/64*np.pi**2)*( (m1(r)**4*(np.log(m1(r)**2/mu**2)-1.5)) )\n",
        "\n",
        "plt.plot(V0(np.linspace(-2,2,100)))\n",
        "plt.show()"
      ],
      "metadata": {
        "colab": {
          "base_uri": "https://localhost:8080/",
          "height": 265
        },
        "id": "1DtsNDdtrhSn",
        "outputId": "230d5f4b-3583-464c-9905-f993bc4fa747"
      },
      "execution_count": 16,
      "outputs": [
        {
          "output_type": "display_data",
          "data": {
            "image/png": "[encoded data removed]",
            "text/plain": [
              "<Figure size 432x288 with 1 Axes>"
            ]
          },
          "metadata": {
            "needs_background": "light"
          }
        }
      ]
    },
    {
      "cell_type": "markdown",
      "source": [
        "## Reproducing GW spectrum"
      ],
      "metadata": {
        "id": "pW9YPiMzvi42"
      }
    },
    {
      "cell_type": "code",
      "source": [
        "H = 1\n",
        "beta = 1\n",
        "al = 1\n",
        "kv = al/(0.73+0.083*np.sqrt(al)+al)\n",
        "gStar = 134\n",
        "vw = 1\n",
        "fSW = 100\n",
        "kTurb = kv\n",
        "fTurb = 1000\n",
        "hStar = 100\n",
        "\n",
        "\n",
        "def omegaSW(f):\n",
        "  return 2.65e-6*(H/beta)*(kv*al/(1+al))**2*(100/gStar)**(1/3)*vw*(f/fSW)**3*(7/(4+3*(f/fSW)**2))**(7/2)\n",
        "\n",
        "def omegaTurb(f):\n",
        "  return 3.35e-4*(H/beta)*(kTurb*al/(1+al))**(3/2)*(100/gStar)**(1/3)*vw*(f/fTurb)**3*(1/((1+(f/fTurb))**(11/3))*(1+(8*np.pi*f/hStar)))\n",
        "\n",
        "def omegaGW(f):\n",
        "  return omegaSW(f) + omegaTurb(f)\n",
        "\n",
        "plt.plot(omegaGW(np.linspace(0,100000000)))"
      ],
      "metadata": {
        "colab": {
          "base_uri": "https://localhost:8080/",
          "height": 282
        },
        "id": "6cebC_Sl2pWJ",
        "outputId": "2856b576-a1ec-4339-d09a-85776464d7e4"
      },
      "execution_count": 42,
      "outputs": [
        {
          "output_type": "execute_result",
          "data": {
            "text/plain": [
              "[<matplotlib.lines.Line2D at 0x7fe092447190>]"
            ]
          },
          "metadata": {},
          "execution_count": 42
        },
        {
          "output_type": "display_data",
          "data": {
            "image/png": "[encoded data removed]",
            "text/plain": [
              "<Figure size 432x288 with 1 Axes>"
            ]
          },
          "metadata": {
            "needs_background": "light"
          }
        }
      ]
    }
  ]
}