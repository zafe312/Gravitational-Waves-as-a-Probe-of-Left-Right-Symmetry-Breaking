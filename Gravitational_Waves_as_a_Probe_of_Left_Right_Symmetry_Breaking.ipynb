{
  "nbformat": 4,
  "nbformat_minor": 0,
  "metadata": {
    "colab": {
      "name": "Gravitational Waves as a Probe of Left-Right Symmetry Breaking.ipynb",
      "provenance": [],
      "authorship_tag": "ABX9TyODy+Lv2NmxV3nKYHrmplUc",
      "include_colab_link": true
    },
    "kernelspec": {
      "name": "python3",
      "display_name": "Python 3"
    },
    "language_info": {
      "name": "python"
    }
  },
  "cells": [
    {
      "cell_type": "markdown",
      "metadata": {
        "id": "view-in-github",
        "colab_type": "text"
      },
      "source": [
        "<a href=\"https://colab.research.google.com/github/zafe312/Gravitational-Waves-as-a-Probe-of-Left-Right-Symmetry-Breaking/blob/main/Gravitational_Waves_as_a_Probe_of_Left_Right_Symmetry_Breaking.ipynb\" target=\"_parent\"><img src=\"https://colab.research.google.com/assets/colab-badge.svg\" alt=\"Open In Colab\"/></a>"
      ]
    },
    {
      "cell_type": "code",
      "execution_count": 1,
      "metadata": {
        "id": "dtUg0YBViHVK"
      },
      "outputs": [],
      "source": [
        "import numpy as np"
      ]
    }
  ]
}